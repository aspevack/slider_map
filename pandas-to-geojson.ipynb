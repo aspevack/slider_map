{
 "cells": [
  {
   "cell_type": "markdown",
   "metadata": {},
   "source": [
    "# Convert a pandas dataframe to geojson for web-mapping"
   ]
  },
  {
   "cell_type": "code",
   "execution_count": 1,
   "metadata": {
    "collapsed": false
   },
   "outputs": [],
   "source": [
    "import pandas as pd, json as json, urllib"
   ]
  },
  {
   "cell_type": "markdown",
   "metadata": {},
   "source": [
    "First download data from the city of Berkeley's API. You can use Socrata's $limit parameter to specify how many rows to grab (otherwise the default is 1,000 rows of data): https://dev.socrata.com/docs/paging.html"
   ]
  },
  {
   "cell_type": "code",
   "execution_count": 2,
   "metadata": {
    "collapsed": true
   },
   "outputs": [],
   "source": [
    "# API endpoint for city of Berkeley's 311 calls\n",
    "endpoint_url = 'https://data.cityofberkeley.info/resource/k489-uv4i.json?$limit=5000'"
   ]
  },
  {
   "cell_type": "code",
   "execution_count": 3,
   "metadata": {
    "collapsed": true
   },
   "outputs": [],
   "source": [
    "# open a connection to the URL\n",
    "connection = urllib.urlopen(endpoint_url)\n",
    "\n",
    "# download the results\n",
    "results = connection.read()\n",
    "\n",
    "# parse the string into a Python data structure\n",
    "data = json.loads(results)"
   ]
  },
  {
   "cell_type": "markdown",
   "metadata": {},
   "source": [
    "Next, turn the json data into a dataframe and clean it up a bit: drop unnecessary columns and any rows that lack lat-long data. We want to make our json file as small as possible (prefer under 5 mb) so that it can be loaded over the Internet to anyone viewing your map, without taking forever to download a huge file."
   ]
  },
  {
   "cell_type": "code",
   "execution_count": 4,
   "metadata": {
    "collapsed": false
   },
   "outputs": [
    {
     "name": "stdout",
     "output_type": "stream",
     "text": [
      "We have 5000 rows\n"
     ]
    },
    {
     "data": {
      "text/plain": [
       "\"[u'apn', u'city', u'indbdate', u'issue_description', u'issue_type', u'latitude', u'location', u'longitude', u'neighborhood_district', u'object_type', u'secondary_issue_type', u'state', u'street_address', u'ticket_closed_date_time', u'ticket_created_date_time', u'ticket_id', u'ticket_status']\""
      ]
     },
     "execution_count": 4,
     "metadata": {},
     "output_type": "execute_result"
    }
   ],
   "source": [
    "# turn the json data into a dataframe and see how many rows and what columns we have\n",
    "df = pd.DataFrame(data)\n",
    "\n",
    "print 'We have {} rows'.format(len(df))\n",
    "str(df.columns.tolist())"
   ]
  },
  {
   "cell_type": "code",
   "execution_count": 5,
   "metadata": {
    "collapsed": true
   },
   "outputs": [],
   "source": [
    "# convert lat-long to floats and change address from ALL CAPS to regular capitalization\n",
    "df['latitude'] = df['latitude'].astype(float)\n",
    "df['longitude'] = df['longitude'].astype(float)\n",
    "df['street_address'] = df['street_address'].str.title()"
   ]
  },
  {
   "cell_type": "code",
   "execution_count": 6,
   "metadata": {
    "collapsed": false
   },
   "outputs": [],
   "source": [
    "# we don't need all those columns - only keep useful ones\n",
    "cols = ['issue_description', 'issue_type', 'latitude', 'longitude', 'street_address', 'ticket_status']\n",
    "df_subset = df[cols]"
   ]
  },
  {
   "cell_type": "code",
   "execution_count": 7,
   "metadata": {
    "collapsed": false
   },
   "outputs": [
    {
     "name": "stdout",
     "output_type": "stream",
     "text": [
      "We have 2438 geotagged rows\n"
     ]
    },
    {
     "data": {
      "text/html": [
       "<div>\n",
       "<table border=\"1\" class=\"dataframe\">\n",
       "  <thead>\n",
       "    <tr style=\"text-align: right;\">\n",
       "      <th></th>\n",
       "      <th>issue_description</th>\n",
       "      <th>issue_type</th>\n",
       "      <th>latitude</th>\n",
       "      <th>longitude</th>\n",
       "      <th>street_address</th>\n",
       "      <th>ticket_status</th>\n",
       "    </tr>\n",
       "  </thead>\n",
       "  <tbody>\n",
       "    <tr>\n",
       "      <th>4994</th>\n",
       "      <td>Residential Service Start</td>\n",
       "      <td>Refuse and Recycling</td>\n",
       "      <td>37.894299</td>\n",
       "      <td>-122.258158</td>\n",
       "      <td>1044 Creston Rd</td>\n",
       "      <td>Closed</td>\n",
       "    </tr>\n",
       "    <tr>\n",
       "      <th>4995</th>\n",
       "      <td>Commercial Reminder</td>\n",
       "      <td>Refuse and Recycling</td>\n",
       "      <td>37.874195</td>\n",
       "      <td>-122.268368</td>\n",
       "      <td>1849 Shattuck Ave</td>\n",
       "      <td>Closed</td>\n",
       "    </tr>\n",
       "    <tr>\n",
       "      <th>4996</th>\n",
       "      <td>Illegal Dumping - City Property</td>\n",
       "      <td>Streets, Utilities, and Transportation</td>\n",
       "      <td>37.857278</td>\n",
       "      <td>-122.264605</td>\n",
       "      <td>2147 Russell St</td>\n",
       "      <td>Closed</td>\n",
       "    </tr>\n",
       "    <tr>\n",
       "      <th>4998</th>\n",
       "      <td>Residential Missed Pickup Integration</td>\n",
       "      <td>Refuse and Recycling</td>\n",
       "      <td>37.861356</td>\n",
       "      <td>-122.291607</td>\n",
       "      <td>2429 Ninth St D</td>\n",
       "      <td>Closed</td>\n",
       "    </tr>\n",
       "    <tr>\n",
       "      <th>4999</th>\n",
       "      <td>Residential Cart Size Decrease</td>\n",
       "      <td>Refuse and Recycling</td>\n",
       "      <td>37.872453</td>\n",
       "      <td>-122.284992</td>\n",
       "      <td>1374 Delaware St</td>\n",
       "      <td>Closed</td>\n",
       "    </tr>\n",
       "  </tbody>\n",
       "</table>\n",
       "</div>"
      ],
      "text/plain": [
       "                          issue_description  \\\n",
       "4994              Residential Service Start   \n",
       "4995                    Commercial Reminder   \n",
       "4996        Illegal Dumping - City Property   \n",
       "4998  Residential Missed Pickup Integration   \n",
       "4999         Residential Cart Size Decrease   \n",
       "\n",
       "                                  issue_type   latitude   longitude  \\\n",
       "4994                    Refuse and Recycling  37.894299 -122.258158   \n",
       "4995                    Refuse and Recycling  37.874195 -122.268368   \n",
       "4996  Streets, Utilities, and Transportation  37.857278 -122.264605   \n",
       "4998                    Refuse and Recycling  37.861356 -122.291607   \n",
       "4999                    Refuse and Recycling  37.872453 -122.284992   \n",
       "\n",
       "         street_address ticket_status  \n",
       "4994    1044 Creston Rd        Closed  \n",
       "4995  1849 Shattuck Ave        Closed  \n",
       "4996    2147 Russell St        Closed  \n",
       "4998    2429 Ninth St D        Closed  \n",
       "4999   1374 Delaware St        Closed  "
      ]
     },
     "execution_count": 7,
     "metadata": {},
     "output_type": "execute_result"
    }
   ],
   "source": [
    "# drop any rows that lack lat/long data\n",
    "df_geo = df_subset.dropna(subset=['latitude', 'longitude'], axis=0, inplace=False)\n",
    "\n",
    "print 'We have {} geotagged rows'.format(len(df_geo))\n",
    "df_geo.tail()"
   ]
  },
  {
   "cell_type": "code",
   "execution_count": 53,
   "metadata": {
    "collapsed": false
   },
   "outputs": [
    {
     "data": {
      "text/html": [
       "<div>\n",
       "<table border=\"1\" class=\"dataframe\">\n",
       "  <thead>\n",
       "    <tr style=\"text-align: right;\">\n",
       "      <th></th>\n",
       "      <th>issue_description</th>\n",
       "      <th>issue_type</th>\n",
       "      <th>latitude</th>\n",
       "      <th>longitude</th>\n",
       "      <th>street_address</th>\n",
       "      <th>ticket_status</th>\n",
       "      <th>ix1</th>\n",
       "      <th>ix2</th>\n",
       "    </tr>\n",
       "  </thead>\n",
       "  <tbody>\n",
       "    <tr>\n",
       "      <th>0</th>\n",
       "      <td>Commercial Cart Size Increase</td>\n",
       "      <td>Refuse and Recycling</td>\n",
       "      <td>37.854654</td>\n",
       "      <td>-122.248474</td>\n",
       "      <td>3084 Claremont Ave</td>\n",
       "      <td>Closed</td>\n",
       "      <td>-0.871942</td>\n",
       "      <td>-0.343552</td>\n",
       "    </tr>\n",
       "    <tr>\n",
       "      <th>1</th>\n",
       "      <td>Residential Site Inspection</td>\n",
       "      <td>Refuse and Recycling</td>\n",
       "      <td>37.862779</td>\n",
       "      <td>-122.257938</td>\n",
       "      <td>2612 Regent St</td>\n",
       "      <td>Closed</td>\n",
       "      <td>0.537646</td>\n",
       "      <td>0.832272</td>\n",
       "    </tr>\n",
       "    <tr>\n",
       "      <th>2</th>\n",
       "      <td>Residential Lost or Stolen Cart</td>\n",
       "      <td>Refuse and Recycling</td>\n",
       "      <td>37.857057</td>\n",
       "      <td>-122.273208</td>\n",
       "      <td>1747 Oregon St</td>\n",
       "      <td>Closed</td>\n",
       "      <td>-0.562705</td>\n",
       "      <td>0.661352</td>\n",
       "    </tr>\n",
       "    <tr>\n",
       "      <th>3</th>\n",
       "      <td>Residential Bulky Pickup</td>\n",
       "      <td>Refuse and Recycling</td>\n",
       "      <td>37.855207</td>\n",
       "      <td>-122.274057</td>\n",
       "      <td>2911 King St</td>\n",
       "      <td>Open</td>\n",
       "      <td>1.201637</td>\n",
       "      <td>-0.096207</td>\n",
       "    </tr>\n",
       "    <tr>\n",
       "      <th>5</th>\n",
       "      <td>Miscellaneous Service Request</td>\n",
       "      <td>General Questions/information</td>\n",
       "      <td>37.878108</td>\n",
       "      <td>-122.284532</td>\n",
       "      <td>1474 Rose St</td>\n",
       "      <td>Closed</td>\n",
       "      <td>-1.118401</td>\n",
       "      <td>0.535427</td>\n",
       "    </tr>\n",
       "    <tr>\n",
       "      <th>8</th>\n",
       "      <td>Residential Bulky Pickup</td>\n",
       "      <td>Refuse and Recycling</td>\n",
       "      <td>37.851674</td>\n",
       "      <td>-122.275183</td>\n",
       "      <td>1626 Prince St</td>\n",
       "      <td>Closed</td>\n",
       "      <td>1.181152</td>\n",
       "      <td>-0.201018</td>\n",
       "    </tr>\n",
       "    <tr>\n",
       "      <th>10</th>\n",
       "      <td>Commercial Reminder</td>\n",
       "      <td>Refuse and Recycling</td>\n",
       "      <td>37.891301</td>\n",
       "      <td>-122.284619</td>\n",
       "      <td>1597 Solano Ave</td>\n",
       "      <td>Closed</td>\n",
       "      <td>0.886818</td>\n",
       "      <td>-0.816203</td>\n",
       "    </tr>\n",
       "    <tr>\n",
       "      <th>12</th>\n",
       "      <td>Residential Reminder</td>\n",
       "      <td>Refuse and Recycling</td>\n",
       "      <td>37.868096</td>\n",
       "      <td>-122.290493</td>\n",
       "      <td>1124 Addison St</td>\n",
       "      <td>Closed</td>\n",
       "      <td>0.364259</td>\n",
       "      <td>0.469727</td>\n",
       "    </tr>\n",
       "    <tr>\n",
       "      <th>13</th>\n",
       "      <td>Commercial Missed Pickup</td>\n",
       "      <td>Refuse and Recycling</td>\n",
       "      <td>37.862315</td>\n",
       "      <td>-122.285405</td>\n",
       "      <td>1315 Dwight Way</td>\n",
       "      <td>Closed</td>\n",
       "      <td>1.122068</td>\n",
       "      <td>-0.826390</td>\n",
       "    </tr>\n",
       "    <tr>\n",
       "      <th>18</th>\n",
       "      <td>Cart Repair</td>\n",
       "      <td>Refuse and Recycling</td>\n",
       "      <td>37.878588</td>\n",
       "      <td>-122.279762</td>\n",
       "      <td>1624 Buena Ave</td>\n",
       "      <td>Closed</td>\n",
       "      <td>-1.893104</td>\n",
       "      <td>0.695461</td>\n",
       "    </tr>\n",
       "    <tr>\n",
       "      <th>22</th>\n",
       "      <td>Residential Missed Pickup Integration</td>\n",
       "      <td>Refuse and Recycling</td>\n",
       "      <td>37.867222</td>\n",
       "      <td>-122.284535</td>\n",
       "      <td>1327 Allston Way</td>\n",
       "      <td>Closed</td>\n",
       "      <td>-0.207309</td>\n",
       "      <td>-1.022031</td>\n",
       "    </tr>\n",
       "  </tbody>\n",
       "</table>\n",
       "</div>"
      ],
      "text/plain": [
       "                        issue_description                     issue_type  \\\n",
       "0           Commercial Cart Size Increase           Refuse and Recycling   \n",
       "1             Residential Site Inspection           Refuse and Recycling   \n",
       "2         Residential Lost or Stolen Cart           Refuse and Recycling   \n",
       "3                Residential Bulky Pickup           Refuse and Recycling   \n",
       "5           Miscellaneous Service Request  General Questions/information   \n",
       "8                Residential Bulky Pickup           Refuse and Recycling   \n",
       "10                    Commercial Reminder           Refuse and Recycling   \n",
       "12                   Residential Reminder           Refuse and Recycling   \n",
       "13               Commercial Missed Pickup           Refuse and Recycling   \n",
       "18                            Cart Repair           Refuse and Recycling   \n",
       "22  Residential Missed Pickup Integration           Refuse and Recycling   \n",
       "\n",
       "     latitude   longitude      street_address ticket_status       ix1  \\\n",
       "0   37.854654 -122.248474  3084 Claremont Ave        Closed -0.871942   \n",
       "1   37.862779 -122.257938      2612 Regent St        Closed  0.537646   \n",
       "2   37.857057 -122.273208      1747 Oregon St        Closed -0.562705   \n",
       "3   37.855207 -122.274057        2911 King St          Open  1.201637   \n",
       "5   37.878108 -122.284532        1474 Rose St        Closed -1.118401   \n",
       "8   37.851674 -122.275183      1626 Prince St        Closed  1.181152   \n",
       "10  37.891301 -122.284619     1597 Solano Ave        Closed  0.886818   \n",
       "12  37.868096 -122.290493     1124 Addison St        Closed  0.364259   \n",
       "13  37.862315 -122.285405     1315 Dwight Way        Closed  1.122068   \n",
       "18  37.878588 -122.279762      1624 Buena Ave        Closed -1.893104   \n",
       "22  37.867222 -122.284535    1327 Allston Way        Closed -0.207309   \n",
       "\n",
       "         ix2  \n",
       "0  -0.343552  \n",
       "1   0.832272  \n",
       "2   0.661352  \n",
       "3  -0.096207  \n",
       "5   0.535427  \n",
       "8  -0.201018  \n",
       "10 -0.816203  \n",
       "12  0.469727  \n",
       "13 -0.826390  \n",
       "18  0.695461  \n",
       "22 -1.022031  "
      ]
     },
     "execution_count": 53,
     "metadata": {},
     "output_type": "execute_result"
    }
   ],
   "source": [
    "import random\n",
    "import numpy as np\n",
    "\n",
    "df_geo.loc[:, 'ix1'] = pd.Series(np.random.randn(len(df_geo.index)), index=df_geo.index)\n",
    "df_geo.loc[:, 'ix2'] = pd.Series(np.random.randn(len(df_geo.index)), index=df_geo.index)\n",
    "df_geo.head(11)"
   ]
  },
  {
   "cell_type": "code",
   "execution_count": 54,
   "metadata": {
    "collapsed": false
   },
   "outputs": [
    {
     "data": {
      "text/plain": [
       "Refuse and Recycling                            1823\n",
       "General Questions/information                    236\n",
       "Streets, Utilities, and Transportation           227\n",
       "Parks, Trees and Vegetation                       51\n",
       "Business License                                  29\n",
       "Environmental Services and Programs               27\n",
       "Facilities, Electrical & Property Management      19\n",
       "Traffic and Transportation                        11\n",
       "Graffiti and Vandalism                             9\n",
       "Equipment Maintenance                              4\n",
       "Other Account Services and Billing                 2\n",
       "Name: issue_type, dtype: int64"
      ]
     },
     "execution_count": 54,
     "metadata": {},
     "output_type": "execute_result"
    }
   ],
   "source": [
    "# what is the distribution of issue types?\n",
    "df_geo['issue_type'].value_counts()"
   ]
  },
  {
   "cell_type": "markdown",
   "metadata": {},
   "source": [
    "Finally, convert each row in the dataframe to a geojson-formatted feature and save the result as a file. The format is pretty simple and you can see it here: http://geojson.org/"
   ]
  },
  {
   "cell_type": "code",
   "execution_count": 55,
   "metadata": {
    "collapsed": true
   },
   "outputs": [],
   "source": [
    "# create a new python dict to contain our geojson data, using geojson format\n",
    "geojson = {'type':'FeatureCollection', 'features':[]}"
   ]
  },
  {
   "cell_type": "code",
   "execution_count": 56,
   "metadata": {
    "collapsed": false
   },
   "outputs": [],
   "source": [
    "# loop through each row in the dataframe and convert each row to geojson format\n",
    "for _, row in df_geo.iterrows():\n",
    "    feature = {'type':'Feature',\n",
    "               'geometry':{\n",
    "                   'type':'Point',\n",
    "                   'coordinates':[row['longitude'],row['latitude']]},\n",
    "               'properties': {\n",
    "                   'street_address':row['street_address'],\n",
    "                   'issue_description':row['issue_description'], \n",
    "                   'issue_type':row['issue_type'],\n",
    "                   'ticket_status':row['ticket_status'],\n",
    "                   'ix1':row['ix1'],\n",
    "                   'ix2':row['ix2']}}\n",
    "    \n",
    "    # add this feature (aka, converted dataframe row) to the list of features inside our dict\n",
    "    geojson['features'].append(feature)"
   ]
  },
  {
   "cell_type": "code",
   "execution_count": 57,
   "metadata": {
    "collapsed": false
   },
   "outputs": [
    {
     "name": "stdout",
     "output_type": "stream",
     "text": [
      "2438 geotagged features saved to file\n"
     ]
    }
   ],
   "source": [
    "# save the geojson result to a file\n",
    "output_filename = 'dataset_ix.js'\n",
    "with open(output_filename, 'wb') as output_file:\n",
    "    output_file.write('var dataset = ')\n",
    "    json.dump(geojson, output_file, indent=2)  \n",
    "    \n",
    "# how many features did we save to the geojson file?\n",
    "print '{} geotagged features saved to file'.format(len(geojson['features']))"
   ]
  },
  {
   "cell_type": "markdown",
   "metadata": {},
   "source": [
    "Now just load that dataset.js file with leaflet to map it. See berkeley-311-map.html for an example of creating the map, and see sample-blog-post.html for an example of how to display this map inside another web page."
   ]
  }
 ],
 "metadata": {
  "kernelspec": {
   "display_name": "Python 2",
   "language": "python",
   "name": "python2"
  },
  "language_info": {
   "codemirror_mode": {
    "name": "ipython",
    "version": 2
   },
   "file_extension": ".py",
   "mimetype": "text/x-python",
   "name": "python",
   "nbconvert_exporter": "python",
   "pygments_lexer": "ipython2",
   "version": "2.7.10"
  }
 },
 "nbformat": 4,
 "nbformat_minor": 0
}
