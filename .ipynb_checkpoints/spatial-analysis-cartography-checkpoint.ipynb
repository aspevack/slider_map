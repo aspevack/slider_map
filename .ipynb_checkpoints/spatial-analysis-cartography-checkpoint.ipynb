{
 "cells": [
  {
   "cell_type": "markdown",
   "metadata": {},
   "source": [
    "# Python Spatial Analysis and Mapping\n",
    "\n",
    "Agenda:\n",
    "- python spatial analysis with geopandas\n",
    "- projecting lat-long spatial data and shapefiles\n",
    "- mapping with basemaps"
   ]
  },
  {
   "cell_type": "markdown",
   "metadata": {},
   "source": [
    "### Quick overview of mapping and projections\n",
    "\n",
    "##### Some terminology:\n",
    "- **geoid**: (that's *gee-oid*) the surface of the earth's gravity field, which approximates mean sea level\n",
    "- **spheroid** or **ellipsoid** (interchangeable terms): a model that smoothly approximates the geoid\n",
    "- **datum**: based on spheroid but incorporates local variations in the shape of the Earth. Used to describe a point on the Earth's surface, such as in latitude and longitude.\n",
    "  - NAD83 (North American Datum 1983) uses the GRS80 spheroid\n",
    "  - WGS84 (World Geodetic Survey 1984 datum) uses the WGS84 spheroid\n",
    "  - The latitude and longitude coordinates of some point differ slightly based on the datum. GPS uses WGS84.\n",
    "- **coordinate reference system** (CRS) or spatial reference system (SRS): a series of parameters that [define](http://spatialreference.org/) the coordinate system and spatial extent (aka, domain) of some dataset.\n",
    "- **geographic coordinate system** (GCS): specifies a datum, spheroid, units of measure (such as meters), and a prime meridian\n",
    "- **projected coordinate system** or map projection: projects a map of the Earth's 3-D spherical surface onto a flat surface that can be measured in units like meters. Here's a [list of projections](http://www.remotesensing.org/geotiff/proj_list/).\n",
    "- **eastings** and **northings**: the x and y coordinates of a projected map, usually measured in meters\n",
    "- **false origin**: the 0,0 origin point from which eastings and northings are measured on the map, usually the lower left corner rather than the center\n",
    "- **PROJ.4**: a library to convert/project spatial data with consistent CRS [parameter names](https://github.com/OSGeo/proj.4/wiki/GenParms)\n",
    "\n",
    "##### Common CRS parameters (and their PROJ.4 names):\n",
    "- datum (datum)\n",
    "- ellipse (ellps)\n",
    "- projection (proj)\n",
    "  - the name of the projected coordinate system, such as Albers Equal Area (aea) or Lambert Conformal Conic (lcc)\n",
    "- standard parallels (lat_1, lat_2)\n",
    "  - where the projection surface touches the globe - at the standard parallels, the projection shows no distortion\n",
    "- central meridian and latitude of origin (lon_0, lat_0)\n",
    "  - the origin of the projection's x and y coordinates (eastings and northings) - usually the center of the map projection\n",
    "- false easting and false northing (x_0, y_0)\n",
    "  - offsets to add to all your eastings and northings - usually used to make all the coordinates on the map positive numbers by starting 0,0 at the lower left corner rather than the center of the map (see false origin, above)\n",
    "\n",
    "##### Common projection types:\n",
    "- *equal area* projections: maintain area at the expense of shape, distance, and direction - such as the [Albers Equal Area](http://www.remotesensing.org/geotiff/proj_list/albers_equal_area_conic.html) projection\n",
    "- *conformal* projections: maintain shapes at the expense of area, distance, and direction - such as the [Lambert Conformal Conic](http://www.remotesensing.org/geotiff/proj_list/lambert_conic_conformal_2sp.html) projection\n",
    "- *equidistant* projections: preserve distance from one point or along all meridians and parallels\n",
    "- *azimuthal* projections: maintain direction from one point to all other points - such as an [orthographic](http://www.remotesensing.org/geotiff/proj_list/orthographic.html) projection\n",
    "- others compromise to minimize overall distortion or aim for aesthetic value - such as the [Robinson](https://upload.wikimedia.org/wikipedia/commons/9/96/Robinson_projection_SW.jpg) projection"
   ]
  },
  {
   "cell_type": "code",
   "execution_count": 1,
   "metadata": {
    "collapsed": false
   },
   "outputs": [],
   "source": [
    "# magic command to display matplotlib plots inline within the ipython notebook\n",
    "%matplotlib inline\n",
    "\n",
    "# import necessary modules\n",
    "import pandas as pd, numpy as np, matplotlib.pyplot as plt\n",
    "from geopandas import GeoDataFrame\n",
    "from mpl_toolkits.basemap import Basemap\n",
    "from shapely.geometry import Point\n",
    "from geopy.distance import great_circle"
   ]
  },
  {
   "cell_type": "markdown",
   "metadata": {},
   "source": [
    "## Part 1: spatial analysis\n",
    "We'll use [geopandas](http://geopandas.org/user.html), which spatializes pandas dataframes. "
   ]
  },
  {
   "cell_type": "code",
   "execution_count": 2,
   "metadata": {
    "collapsed": false
   },
   "outputs": [
    {
     "data": {
      "text/html": [
       "<div>\n",
       "<table border=\"1\" class=\"dataframe\">\n",
       "  <thead>\n",
       "    <tr style=\"text-align: right;\">\n",
       "      <th></th>\n",
       "      <th>ACTransCt</th>\n",
       "      <th>ACTransThr</th>\n",
       "      <th>ALAND10</th>\n",
       "      <th>AWATER10</th>\n",
       "      <th>AmtrakThr</th>\n",
       "      <th>AreaPDA</th>\n",
       "      <th>AreaTot</th>\n",
       "      <th>Avg_Slope</th>\n",
       "      <th>BLKGRPCE10</th>\n",
       "      <th>BartThr</th>\n",
       "      <th>...</th>\n",
       "      <th>sc_resgrow</th>\n",
       "      <th>sc_resil</th>\n",
       "      <th>sc_thilulo</th>\n",
       "      <th>schldist_z</th>\n",
       "      <th>schooldist</th>\n",
       "      <th>socservdis</th>\n",
       "      <th>sservdis_z</th>\n",
       "      <th>studyarea</th>\n",
       "      <th>tlu_sum_hi</th>\n",
       "      <th>tlu_sum_lo</th>\n",
       "    </tr>\n",
       "  </thead>\n",
       "  <tbody>\n",
       "    <tr>\n",
       "      <th>0</th>\n",
       "      <td>15</td>\n",
       "      <td>1</td>\n",
       "      <td>274258</td>\n",
       "      <td>0</td>\n",
       "      <td>0</td>\n",
       "      <td>0.000000</td>\n",
       "      <td>274259.442813</td>\n",
       "      <td>1.860736</td>\n",
       "      <td>1</td>\n",
       "      <td>0</td>\n",
       "      <td>...</td>\n",
       "      <td>0.504</td>\n",
       "      <td>0.364</td>\n",
       "      <td>1.059700</td>\n",
       "      <td>-0.157886</td>\n",
       "      <td>375.996328</td>\n",
       "      <td>3952.247681</td>\n",
       "      <td>0.733914</td>\n",
       "      <td>1</td>\n",
       "      <td>0.2620</td>\n",
       "      <td>0.8550</td>\n",
       "    </tr>\n",
       "    <tr>\n",
       "      <th>1</th>\n",
       "      <td>34</td>\n",
       "      <td>1</td>\n",
       "      <td>313288</td>\n",
       "      <td>0</td>\n",
       "      <td>0</td>\n",
       "      <td>313286.960126</td>\n",
       "      <td>313286.960126</td>\n",
       "      <td>1.870402</td>\n",
       "      <td>2</td>\n",
       "      <td>0</td>\n",
       "      <td>...</td>\n",
       "      <td>1.211</td>\n",
       "      <td>0.349</td>\n",
       "      <td>0.946268</td>\n",
       "      <td>-0.601396</td>\n",
       "      <td>244.158318</td>\n",
       "      <td>2019.437308</td>\n",
       "      <td>-0.572494</td>\n",
       "      <td>1</td>\n",
       "      <td>0.5130</td>\n",
       "      <td>0.7205</td>\n",
       "    </tr>\n",
       "    <tr>\n",
       "      <th>2</th>\n",
       "      <td>37</td>\n",
       "      <td>1</td>\n",
       "      <td>408625</td>\n",
       "      <td>0</td>\n",
       "      <td>0</td>\n",
       "      <td>0.000000</td>\n",
       "      <td>408623.944423</td>\n",
       "      <td>2.235017</td>\n",
       "      <td>2</td>\n",
       "      <td>0</td>\n",
       "      <td>...</td>\n",
       "      <td>0.527</td>\n",
       "      <td>0.420</td>\n",
       "      <td>1.059700</td>\n",
       "      <td>0.316204</td>\n",
       "      <td>516.924971</td>\n",
       "      <td>2984.298144</td>\n",
       "      <td>0.079666</td>\n",
       "      <td>1</td>\n",
       "      <td>0.1215</td>\n",
       "      <td>0.8595</td>\n",
       "    </tr>\n",
       "    <tr>\n",
       "      <th>3</th>\n",
       "      <td>31</td>\n",
       "      <td>1</td>\n",
       "      <td>456611</td>\n",
       "      <td>0</td>\n",
       "      <td>0</td>\n",
       "      <td>456613.001079</td>\n",
       "      <td>456613.001079</td>\n",
       "      <td>0.197073</td>\n",
       "      <td>3</td>\n",
       "      <td>0</td>\n",
       "      <td>...</td>\n",
       "      <td>1.094</td>\n",
       "      <td>0.468</td>\n",
       "      <td>1.468656</td>\n",
       "      <td>-0.647201</td>\n",
       "      <td>230.542307</td>\n",
       "      <td>1507.096239</td>\n",
       "      <td>-0.918791</td>\n",
       "      <td>1</td>\n",
       "      <td>0.5550</td>\n",
       "      <td>0.5785</td>\n",
       "    </tr>\n",
       "    <tr>\n",
       "      <th>4</th>\n",
       "      <td>20</td>\n",
       "      <td>1</td>\n",
       "      <td>202348</td>\n",
       "      <td>0</td>\n",
       "      <td>0</td>\n",
       "      <td>194979.434091</td>\n",
       "      <td>202348.036619</td>\n",
       "      <td>0.312476</td>\n",
       "      <td>4</td>\n",
       "      <td>0</td>\n",
       "      <td>...</td>\n",
       "      <td>1.020</td>\n",
       "      <td>0.468</td>\n",
       "      <td>1.161193</td>\n",
       "      <td>0.021384</td>\n",
       "      <td>429.286512</td>\n",
       "      <td>1904.773627</td>\n",
       "      <td>-0.649997</td>\n",
       "      <td>1</td>\n",
       "      <td>0.3295</td>\n",
       "      <td>0.6830</td>\n",
       "    </tr>\n",
       "  </tbody>\n",
       "</table>\n",
       "<p>5 rows × 152 columns</p>\n",
       "</div>"
      ],
      "text/plain": [
       "   ACTransCt  ACTransThr  ALAND10  AWATER10  AmtrakThr        AreaPDA  \\\n",
       "0         15           1   274258         0          0       0.000000   \n",
       "1         34           1   313288         0          0  313286.960126   \n",
       "2         37           1   408625         0          0       0.000000   \n",
       "3         31           1   456611         0          0  456613.001079   \n",
       "4         20           1   202348         0          0  194979.434091   \n",
       "\n",
       "         AreaTot  Avg_Slope BLKGRPCE10  BartThr    ...     sc_resgrow  \\\n",
       "0  274259.442813   1.860736          1        0    ...          0.504   \n",
       "1  313286.960126   1.870402          2        0    ...          1.211   \n",
       "2  408623.944423   2.235017          2        0    ...          0.527   \n",
       "3  456613.001079   0.197073          3        0    ...          1.094   \n",
       "4  202348.036619   0.312476          4        0    ...          1.020   \n",
       "\n",
       "   sc_resil  sc_thilulo  schldist_z  schooldist   socservdis  sservdis_z  \\\n",
       "0     0.364    1.059700   -0.157886  375.996328  3952.247681    0.733914   \n",
       "1     0.349    0.946268   -0.601396  244.158318  2019.437308   -0.572494   \n",
       "2     0.420    1.059700    0.316204  516.924971  2984.298144    0.079666   \n",
       "3     0.468    1.468656   -0.647201  230.542307  1507.096239   -0.918791   \n",
       "4     0.468    1.161193    0.021384  429.286512  1904.773627   -0.649997   \n",
       "\n",
       "   studyarea tlu_sum_hi tlu_sum_lo  \n",
       "0          1     0.2620     0.8550  \n",
       "1          1     0.5130     0.7205  \n",
       "2          1     0.1215     0.8595  \n",
       "3          1     0.5550     0.5785  \n",
       "4          1     0.3295     0.6830  \n",
       "\n",
       "[5 rows x 152 columns]"
      ]
     },
     "execution_count": 2,
     "metadata": {},
     "output_type": "execute_result"
    }
   ],
   "source": [
    "# load the states shapefile as a geodataframe\n",
    "df = GeoDataFrame.from_file('2010Census_Blockgrp_NAD83Alb_nowater_OaklandOnly_v2.shp')\n",
    "df.head()"
   ]
  },
  {
   "cell_type": "code",
   "execution_count": null,
   "metadata": {
    "collapsed": true
   },
   "outputs": [],
   "source": [
    "df = df"
   ]
  },
  {
   "cell_type": "code",
   "execution_count": null,
   "metadata": {
    "collapsed": false
   },
   "outputs": [],
   "source": [
    "# what's in our shapefile?\n",
    "print len(states)\n",
    "states['STATE_NAME'].unique()"
   ]
  },
  {
   "cell_type": "code",
   "execution_count": null,
   "metadata": {
    "collapsed": false
   },
   "outputs": [],
   "source": [
    "# get those states that intersect with the point data\n",
    "# use geopandas unary_union attribute to get a single geometry object representing all the points\n",
    "mask = states['geometry'].intersects(usa_points['geometry'].unary_union)\n",
    "states_with_points = states[mask]\n",
    "\n",
    "len(states_with_points)"
   ]
  },
  {
   "cell_type": "code",
   "execution_count": null,
   "metadata": {
    "collapsed": false
   },
   "outputs": [],
   "source": [
    "usa_points.geometry.unary_union"
   ]
  },
  {
   "cell_type": "code",
   "execution_count": null,
   "metadata": {
    "collapsed": false
   },
   "outputs": [],
   "source": [
    "# which states didn't have any point data?\n",
    "states[~mask]['STATE_NAME']"
   ]
  },
  {
   "cell_type": "code",
   "execution_count": null,
   "metadata": {
    "collapsed": false
   },
   "outputs": [],
   "source": [
    "# get the geometry of the state with name california, as a geoseries of one element\n",
    "california = states[states['STATE_NAME']=='California']['geometry']\n",
    "\n",
    "# use iloc to extract the value from a geoseries of one element, to a shapely polygon\n",
    "california_polygon = california.iloc[0]\n",
    "california_polygon"
   ]
  },
  {
   "cell_type": "code",
   "execution_count": null,
   "metadata": {
    "collapsed": false
   },
   "outputs": [],
   "source": [
    "# another example: remove any point data that lies within Alaska or Hawaii\n",
    "# first grab the polygons from these states' geoseries using iloc\n",
    "alaska_polygon = states[states['STATE_NAME']=='Alaska']['geometry'].iloc[0]\n",
    "hawaii_polygon = states[states['STATE_NAME']=='Hawaii']['geometry'].iloc[0]\n",
    "\n",
    "# now use a mask to select all points *not* within either state's polygon\n",
    "alaska_hawaii_mask = usa_points.within(alaska_polygon) | usa_points.within(hawaii_polygon)\n",
    "usa_points = usa_points[~alaska_hawaii_mask]"
   ]
  },
  {
   "cell_type": "code",
   "execution_count": null,
   "metadata": {
    "collapsed": false
   },
   "outputs": [],
   "source": [
    "usa_points.geometry.unary_union"
   ]
  },
  {
   "cell_type": "code",
   "execution_count": null,
   "metadata": {
    "collapsed": false
   },
   "outputs": [],
   "source": [
    "# visual example of selecting points geographically: which points are in california?\n",
    "california_points = usa_points[usa_points.within(california_polygon)]\n",
    "\n",
    "# plot california geoseries and the geoseries of points within california polygon\n",
    "california.plot()\n",
    "california_points.plot()"
   ]
  },
  {
   "cell_type": "code",
   "execution_count": null,
   "metadata": {
    "collapsed": false
   },
   "outputs": [],
   "source": [
    "# you can easily calculate buffers (and then perform intersections with them)\n",
    "california.plot()\n",
    "california_points.buffer(0.5).plot()"
   ]
  },
  {
   "cell_type": "markdown",
   "metadata": {},
   "source": [
    "But these buffers are kind of weird because the data is not projected - it's all in lat-long degrees. Let's project it."
   ]
  },
  {
   "cell_type": "markdown",
   "metadata": {},
   "source": [
    "## Part 2: projecting spatial data"
   ]
  },
  {
   "cell_type": "markdown",
   "metadata": {},
   "source": [
    "Let's define a projection we can use to convert and map our lat-long data. The parameters in the following dictionaries correspond to the projection parameters from PROJ4. Geopandas uses the pyproj library to convert spatial data, which in turn uses PROJ4 projection names and parameters.\n",
    "\n",
    "You can figure out these parameter values either by approximating the lats and longs of your spatial data set, or by trial and error, or by looking up a reference like [this one](http://spatialreference.org/ref/epsg/26911/) for UTM zone 11. \n",
    "\n",
    "Geopandas needs your projection to be specified in a dict - you can create one manually, or use the function below to convert a PROJ4 string to a dict."
   ]
  },
  {
   "cell_type": "code",
   "execution_count": null,
   "metadata": {
    "collapsed": false
   },
   "outputs": [],
   "source": [
    "# option 1: specify your projections manually as python dicts\n",
    "# we'll map with UTM zone 11 which is good for California - this is a projected coordinate system\n",
    "utm_11 = {'datum':'NAD83',\n",
    "          'ellps':'GRS80',\n",
    "          'proj':'utm',\n",
    "          'zone':11,\n",
    "          'units':'m'}"
   ]
  },
  {
   "cell_type": "code",
   "execution_count": null,
   "metadata": {
    "collapsed": false
   },
   "outputs": [],
   "source": [
    "# option 2: pass an existing proj4 string to this function and it'll turn it into a python dict\n",
    "def proj4_to_dict(proj4string):\n",
    "    params_dict = {}\n",
    "    proj4string = proj4string.strip('+') #strip preceding +\n",
    "    for param_pair in proj4string.split(' +'): #break string into tokens\n",
    "        key_value = param_pair.split('=') #break token by parameter=value\n",
    "        if len(key_value)==2: #if there aren't 2 pieces (param and value), ignore it\n",
    "            key, value = tuple(key_value)\n",
    "        params_dict[key] = value\n",
    "    return params_dict"
   ]
  },
  {
   "cell_type": "code",
   "execution_count": null,
   "metadata": {
    "collapsed": false
   },
   "outputs": [],
   "source": [
    "# test the function out\n",
    "proj4 = '+proj=utm +zone=11 +ellps=GRS80 +datum=NAD83 +units=m +no_defs'\n",
    "utm_11 = proj4_to_dict(proj4)\n",
    "utm_11"
   ]
  },
  {
   "cell_type": "code",
   "execution_count": null,
   "metadata": {
    "collapsed": true
   },
   "outputs": [],
   "source": [
    "# you must specify the geodataframe's original CRS (if it doesn't already have one) so geopandas knows how to project it\n",
    "# the GPS data is lat-long and its datum/ellipsoid is WGS84 - this is a geographic coordinate system\n",
    "original_crs = {'datum':'WGS84', 'ellps':'WGS84', 'proj':'latlong'}\n",
    "california_points.crs = original_crs"
   ]
  },
  {
   "cell_type": "code",
   "execution_count": null,
   "metadata": {
    "collapsed": false
   },
   "outputs": [],
   "source": [
    "# the california shapefile already has an original CRS so we don't need to specify it - just project and plot it\n",
    "# the original CRS lives in the .prj file in the states directory! GeoDataFrame.from_file automatically goes and looks for it.\n",
    "california = california.to_crs(utm_11)\n",
    "california.plot()\n",
    "\n",
    "# now project the point data to the projected coordinate system, draw buffers, and plot it\n",
    "california_points = california_points.to_crs(utm_11)\n",
    "california_points.buffer(30000).plot()"
   ]
  },
  {
   "cell_type": "markdown",
   "metadata": {},
   "source": [
    "So that's our projected data and shapefile. Notice how the shape has changed, and how the units make more sense - they are in meters now. So our buffers are a 30km radius from each point.\n",
    "\n",
    "It's also easy to save a geodataframe as a shapefile or as a geojson string (for easy leaflet mapping):"
   ]
  },
  {
   "cell_type": "code",
   "execution_count": null,
   "metadata": {
    "collapsed": false
   },
   "outputs": [],
   "source": [
    "# save projected shapefile\n",
    "california.to_file('data/ca_utm_11/', driver='ESRI Shapefile')\n",
    "\n",
    "# convert un-projected point data and shapefile to geojson strings (you can then copy/paste these or save them to a file)\n",
    "points_geojson = usa_points.to_json()\n",
    "states_geojson = states.to_json()"
   ]
  },
  {
   "cell_type": "markdown",
   "metadata": {},
   "source": [
    "Now let's project our entire USA points data to a projection appropriate for the entire USA. We'll specify the datum, ellipsoid, projection name, standard parallels, central meridian and latitude of origin, false easting and false northing (because matplotlib basemap sticks the origin at the lower left corner), and measurement units. "
   ]
  },
  {
   "cell_type": "code",
   "execution_count": null,
   "metadata": {
    "collapsed": false
   },
   "outputs": [],
   "source": [
    "# set our usa_points dataset's original CRS\n",
    "usa_points.crs = original_crs\n",
    "usa_points.head()"
   ]
  },
  {
   "cell_type": "code",
   "execution_count": null,
   "metadata": {
    "collapsed": true
   },
   "outputs": [],
   "source": [
    "# specify the width and height of the map extent/domain in projection coordinate units (meters) - approx USA dimensions\n",
    "# this is so the projected data will line up with the basemap\n",
    "map_width_m = 5000 * 1000 #5000 km\n",
    "map_height_m = 3500 * 1000 #3500 km"
   ]
  },
  {
   "cell_type": "code",
   "execution_count": null,
   "metadata": {
    "collapsed": false
   },
   "outputs": [],
   "source": [
    "# Albers Conical Equal Area projection for USA\n",
    "# we actually made up many of these numbers! So it is possible to neatly tailor an \n",
    "# Albers Equal Area projection for our specific needs - though possibly better not to,\n",
    "# for consistency with the rest of the world\n",
    "albers_usa = {'datum':'NAD83',\n",
    "              'ellps':'GRS80',\n",
    "              'proj':'aea', \n",
    "              'lat_1':33, \n",
    "              'lat_2':45, \n",
    "              'lon_0':-97, \n",
    "              'lat_0':39, \n",
    "              'x_0':map_width_m/2, \n",
    "              'y_0':map_height_m/2,\n",
    "              'units':'m'}"
   ]
  },
  {
   "cell_type": "code",
   "execution_count": null,
   "metadata": {
    "collapsed": false
   },
   "outputs": [],
   "source": [
    "# now you can convert the point data to a projected CRS\n",
    "target_crs = albers_usa\n",
    "usa_points = usa_points.to_crs(target_crs)\n",
    "usa_points.head()"
   ]
  },
  {
   "cell_type": "code",
   "execution_count": null,
   "metadata": {
    "collapsed": false
   },
   "outputs": [],
   "source": [
    "# convert the projected points into discrete x and y columns for easy matplotlib scatter-plotting\n",
    "usa_points['x'] = usa_points['geometry'].map(lambda point: point.x)\n",
    "usa_points['y'] = usa_points['geometry'].map(lambda point: point.y)\n",
    "usa_points.head()"
   ]
  },
  {
   "cell_type": "code",
   "execution_count": null,
   "metadata": {
    "collapsed": false
   },
   "outputs": [],
   "source": [
    "# scatter plot un-projected and projected point data side by side\n",
    "fig, ax = plt.subplots(1, 2, figsize=[15,4])\n",
    "ax[0].scatter(x=usa_points['longitude'], y=usa_points['latitude'], c='g', edgecolor='None', alpha=0.4)\n",
    "ax[1].scatter(x=usa_points['x'], y=usa_points['y'], c='b', edgecolor='None', alpha=0.2)\n",
    "plt.show()\n",
    "\n",
    "fig, ax = plt.subplots(1, 2, figsize=[15,4])\n",
    "plt.axis('equal')\n",
    "ax[0].scatter(x=usa_points['longitude'], y=usa_points['latitude'], c='g', edgecolor='None', alpha=0.4)\n",
    "ax[1].scatter(x=usa_points['x'], y=usa_points['y'], c='b', edgecolor='None', alpha=0.2)\n",
    "plt.show()"
   ]
  },
  {
   "cell_type": "markdown",
   "metadata": {},
   "source": [
    "Unprojected lat-long data (left) and projected data (right). The origin on the right is 0,0 like we'd expect for our false origin. Now let's make it look nice, with matplotlib basemap."
   ]
  },
  {
   "cell_type": "markdown",
   "metadata": {},
   "source": [
    "# Part 3: basemaps\n",
    "\n",
    "We'll use the matplotlib basemap toolkit\n",
    "\n",
    "- User's guide and installation instructions: http://matplotlib.org/basemap/\n",
    "- Documentation: http://matplotlib.org/basemap/api/basemap_api.html\n",
    "- You can find color codes from a site like this: http://html-color-codes.info/"
   ]
  },
  {
   "cell_type": "code",
   "execution_count": null,
   "metadata": {
    "collapsed": true
   },
   "outputs": [],
   "source": [
    "# define basemap colors\n",
    "land_color = '#F6F6F6'\n",
    "water_color = '#D2F5FF'\n",
    "coastline_color = '#333333'\n",
    "border_color = '#999999'\n",
    "country_color = '#000000'"
   ]
  },
  {
   "cell_type": "code",
   "execution_count": null,
   "metadata": {
    "collapsed": false
   },
   "outputs": [],
   "source": [
    "plt.figure(figsize=[10,7]) #same ratio as map_width_m:map_height_m so we don't stretch it\n",
    "\n",
    "m = Basemap(ellps=target_crs['ellps'],\n",
    "            projection=target_crs['proj'],\n",
    "            lat_1=target_crs['lat_1'], \n",
    "            lat_2=target_crs['lat_2'], \n",
    "            lon_0=target_crs['lon_0'], \n",
    "            lat_0=target_crs['lat_0'],\n",
    "            width=map_width_m, \n",
    "            height=map_height_m,\n",
    "            resolution='l', #l means low resolution boundaries\n",
    "            area_thresh=10000) #coastline or lake with an area smaller than this km^2 will not be plotted\n",
    "\n",
    "m.drawcoastlines(color=coastline_color)\n",
    "m.fillcontinents(color=land_color, lake_color=water_color)\n",
    "m.drawstates(color=border_color)\n",
    "m.drawcountries(color=country_color)\n",
    "m.drawmapboundary(fill_color=water_color)\n",
    "\n",
    "m.scatter(x=usa_points['x'], y=usa_points['y'], s=80, color='r', edgecolor='#333333', alpha=0.4, zorder=10)\n",
    "\n",
    "plt.show()"
   ]
  },
  {
   "cell_type": "code",
   "execution_count": null,
   "metadata": {
    "collapsed": false
   },
   "outputs": [],
   "source": [
    "# draw a shaded relief map of North America\n",
    "plt.figure(figsize=[10,7])\n",
    "m = Basemap(ellps=target_crs['ellps'],\n",
    "            projection=target_crs['proj'],\n",
    "            lat_1=target_crs['lat_1'], \n",
    "            lat_2=target_crs['lat_2'], \n",
    "            lon_0=target_crs['lon_0'], \n",
    "            lat_0=target_crs['lat_0'],\n",
    "            width=map_width_m, \n",
    "            height=map_height_m,\n",
    "            resolution=None, #don't plot boundaries because we're doing shaded relief instead\n",
    "            area_thresh=10000)\n",
    "\n",
    "# draw a shaded relief map for this domain\n",
    "m.shadedrelief()\n",
    "\n",
    "# scatter plot our points\n",
    "m.scatter(x=usa_points['x'], y=usa_points['y'], s=40, color='m', edgecolor='k', alpha=0.4, zorder=10)\n",
    "plt.show()"
   ]
  },
  {
   "cell_type": "code",
   "execution_count": null,
   "metadata": {
    "collapsed": true
   },
   "outputs": [],
   "source": [
    "# define an orthographic projection\n",
    "ortho_usa = {'datum':'WGS84',\n",
    "             'ellps':'WGS84',\n",
    "             'proj':'ortho',  \n",
    "             'lon_0':-105., \n",
    "             'lat_0':40.,\n",
    "             'units':'m'}"
   ]
  },
  {
   "cell_type": "code",
   "execution_count": null,
   "metadata": {
    "collapsed": false
   },
   "outputs": [],
   "source": [
    "# draw an orthographic projection looking down on North America from orbit\n",
    "plt.figure(figsize=[6,6])\n",
    "m = Basemap(projection=ortho_usa['proj'],\n",
    "            lon_0=ortho_usa['lon_0'] + 15*0,\n",
    "            lat_0=ortho_usa['lat_0'],\n",
    "            resolution='l',\n",
    "            area_thresh=10000)\n",
    "\n",
    "m.drawcoastlines(color=coastline_color)\n",
    "m.fillcontinents(color=land_color,lake_color=water_color)\n",
    "m.drawmapboundary(fill_color=water_color)\n",
    "m.drawcountries(color=border_color)\n",
    "\n",
    "# add lines of longitude and latitude to give the globe perspective\n",
    "m.drawparallels(np.arange(-90., 120., 30.), color='gray')\n",
    "m.drawmeridians(np.arange(0., 420., 60.), color='gray')\n",
    "\n",
    "# we can use basemap to project our data into the current map projection\n",
    "x, y = m(np.array(usa_points['longitude']), np.array(usa_points['latitude']))\n",
    "m.scatter(x=x, y=y, s=3, color='m', edgecolor='None', alpha=0.5, zorder=10)\n",
    "plt.show()"
   ]
  },
  {
   "cell_type": "code",
   "execution_count": null,
   "metadata": {
    "collapsed": false
   },
   "outputs": [],
   "source": [
    "def draw_world(frame):\n",
    "#    global SPIN\n",
    "    plt.clf()\n",
    "    m = Basemap(projection=ortho_usa['proj'],\n",
    "                lon_0=ortho_usa['lon_0'] + 1*frame,\n",
    "                lat_0=ortho_usa['lat_0'],\n",
    "                resolution='l',\n",
    "                area_thresh=10000)\n",
    "\n",
    "    m.drawcoastlines(color=coastline_color)\n",
    "    m.fillcontinents(color=land_color,lake_color=water_color)\n",
    "    m.drawmapboundary(fill_color=water_color)\n",
    "    m.drawcountries(color=border_color)\n",
    "\n",
    "    # add lines of longitude and latitude to give the globe perspective\n",
    "    m.drawparallels(np.arange(-90., 120., 30.), color='gray')\n",
    "    m.drawmeridians(np.arange(0., 420., 60.), color='gray')\n",
    "\n",
    "    # we can use basemap to project our data into the current map projection\n",
    "    x, y = m(np.array(usa_points['longitude']), np.array(usa_points['latitude']))\n",
    "    m.scatter(x=x, y=y, s=3, color='m', edgecolor='None', alpha=0.5, zorder=10)\n",
    "#    SPIN += 1\n",
    "    return plt"
   ]
  },
  {
   "cell_type": "code",
   "execution_count": null,
   "metadata": {
    "collapsed": false
   },
   "outputs": [],
   "source": [
    "%matplotlib inline\n",
    "\n",
    "import numpy as np\n",
    "import matplotlib.pyplot as plt\n",
    "import matplotlib.animation as animation\n",
    "\n",
    "fig1 = plt.figure(figsize=[6,6])\n",
    "#SPIN = 0\n",
    "\n",
    "#draw_world()\n",
    "\n",
    "line_ani = animation.FuncAnimation(fig1, draw_world, 360)\n",
    "line_ani.save('world.mp4')\n"
   ]
  },
  {
   "cell_type": "code",
   "execution_count": null,
   "metadata": {
    "collapsed": false
   },
   "outputs": [],
   "source": [
    "# combine an orthographic projection with shaded relief\n",
    "plt.figure(figsize=[6,6])\n",
    "m = Basemap(projection=ortho_usa['proj'],\n",
    "            lon_0=ortho_usa['lon_0'],\n",
    "            lat_0=ortho_usa['lat_0'],\n",
    "            resolution=None)\n",
    "\n",
    "# draw the shaded relief and parallels/meridians\n",
    "m.shadedrelief()\n",
    "m.drawparallels(np.arange(-90., 120., 30.), color='gray')\n",
    "m.drawmeridians(np.arange(0., 420., 60.), color='gray')\n",
    "\n",
    "# project and plot our lat-long data\n",
    "x, y = m(np.array(usa_points['longitude']), np.array(usa_points['latitude']))\n",
    "m.scatter(x=x, y=y, s=3, color='m', edgecolor='None', alpha=0.5, zorder=10)\n",
    "plt.show()"
   ]
  },
  {
   "cell_type": "markdown",
   "metadata": {},
   "source": [
    "### Final example: plot projected Europe data, from scratch\n",
    "\n",
    "One last simple example, showing how easy it is to project and map spatial data from scratch in just a few lines of code."
   ]
  },
  {
   "cell_type": "code",
   "execution_count": null,
   "metadata": {
    "collapsed": false
   },
   "outputs": [],
   "source": [
    "# load the Europe GPS data\n",
    "df = pd.read_csv('data/summer-travel-gps-dbscan.csv')\n",
    "\n",
    "# specify map width and height with approx Europe dimensions\n",
    "map_width_m = 3500 * 1000 #3500 km\n",
    "map_height_m = 2500 * 1000 #2500 km\n",
    "plt.figure(figsize=[10, 10*(map_width_m/map_height_m)]) #make plot the same height:width ratio\n",
    "\n",
    "# Albers Conical Equal Area projection for Europe\n",
    "m = Basemap(ellps='WGS84', projection='aea', lat_1=35, lat_2=55, lon_0=10, lat_0=45,\n",
    "            width=map_width_m, height=map_height_m, resolution='l', area_thresh=10000)\n",
    "\n",
    "m.drawcoastlines(color=coastline_color)\n",
    "m.drawcountries(color=border_color)\n",
    "m.fillcontinents(color=land_color, lake_color=water_color)\n",
    "m.drawmapboundary(fill_color=water_color)\n",
    "\n",
    "# project and plot our lat-long data\n",
    "x, y = m(np.array(df['lon']), np.array(df['lat']))\n",
    "m.scatter(x=x, y=y, s=100, color='r', edgecolor='#333333', alpha=0.4, zorder=10)\n",
    "\n",
    "plt.show()"
   ]
  },
  {
   "cell_type": "markdown",
   "metadata": {
    "collapsed": true
   },
   "source": [
    "So what's the point of all this? Why not just use QGIS? Well if I'm just trying to make a one-off map, I'd just use QGIS. But if I were automating a workflow, I'd use Python: geopandas and basemap are fast for projecting, mapping, and spatial analysis especially when it's repetitive. But most of all, if I'm already working with pandas data, cleaning it, analyzing it, modeling it - I can create a nice map of it with just a few more lines of code.\n",
    "\n",
    "If you're interested in more fine-grained control over plotting your basemap, you can project a shapefile and convert each piece of geometry inside it into a patch for matplotlib to plot (individually customizable). I describe this process in an old blog post I wrote: http://geoffboeing.com/2014/09/visualizing-summer-travels-part-6-projecting-spatial-data-python/"
   ]
  }
 ],
 "metadata": {
  "kernelspec": {
   "display_name": "Python 2",
   "language": "python",
   "name": "python2"
  },
  "language_info": {
   "codemirror_mode": {
    "name": "ipython",
    "version": 2
   },
   "file_extension": ".py",
   "mimetype": "text/x-python",
   "name": "python",
   "nbconvert_exporter": "python",
   "pygments_lexer": "ipython2",
   "version": "2.7.10"
  }
 },
 "nbformat": 4,
 "nbformat_minor": 0
}
